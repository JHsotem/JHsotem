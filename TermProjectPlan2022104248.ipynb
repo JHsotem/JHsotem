{
 "cells": [
  {
   "cell_type": "markdown",
   "id": "2b635a2d",
   "metadata": {},
   "source": [
    "# Term Project Plan"
   ]
  },
  {
   "cell_type": "markdown",
   "id": "91ba07f1",
   "metadata": {},
   "source": [
    "2022104248 전자공학과 박재환 <br>"
   ]
  },
  {
   "cell_type": "markdown",
   "id": "be2485b7",
   "metadata": {},
   "source": [
    "## 주제"
   ]
  },
  {
   "cell_type": "markdown",
   "id": "e1b543ce",
   "metadata": {},
   "source": [
    "**여수시 버스정류장 정리 및 시각화** <br>\n",
    "여수시의 버스정류장 위치 및 현황을 정리하고 정리한 데이터를 시각화한다. <br>"
   ]
  },
  {
   "cell_type": "markdown",
   "id": "131403c1",
   "metadata": {},
   "source": [
    "## 1) 주제선정이유"
   ]
  },
  {
   "cell_type": "markdown",
   "id": "78005902",
   "metadata": {},
   "source": [
    "여수시에는 지하철이 없으며 버스 또는 택시를 통해 이동해야만한다. <br>\n",
    "중,고등학생이나 대학생 입장에서 택시를 자주 이용하기에는 부담이 될 수 있으므로 주로 버스를 이용한다. <br> \n",
    "버스 노선은 대체로 지하철 노선보다 복잡하고 교통상황에 따라 시간변동이 심하다. <br> \n",
    "여수시의 버스는 타 지역에 비해 버스노선이 복잡하기 때문에 카카오버스와 같은 앱을 사용하더라도 이동에 불편함이 많다. <br>\n",
    "본가인 여수에서 이동의 편리함을 누리기 위해 주제를 선정하였다. <br>"
   ]
  },
  {
   "cell_type": "markdown",
   "id": "92efcb64",
   "metadata": {},
   "source": [
    "## 2) 가설 정의"
   ]
  },
  {
   "cell_type": "markdown",
   "id": "27ab3789",
   "metadata": {},
   "source": [
    " <br>"
   ]
  },
  {
   "cell_type": "markdown",
   "id": "263a4b27",
   "metadata": {},
   "source": [
    "## 3) 텀프로젝트 계획 "
   ]
  },
  {
   "cell_type": "markdown",
   "id": "3bd15711",
   "metadata": {},
   "source": [
    "1차목표: 버스정류장의 정보 정리 <br>\n",
    "2차목표: 동 단위의 버스정류장 분류 <br>\n",
    "3차목표: 중복노선 및 노선이 적은 지역 정리 <br>\n",
    "4차목표: 분석데이터 기반으로 시각화 <br>"
   ]
  }
 ],
 "metadata": {
  "kernelspec": {
   "display_name": "Python 3 (ipykernel)",
   "language": "python",
   "name": "python3"
  },
  "language_info": {
   "codemirror_mode": {
    "name": "ipython",
    "version": 3
   },
   "file_extension": ".py",
   "mimetype": "text/x-python",
   "name": "python",
   "nbconvert_exporter": "python",
   "pygments_lexer": "ipython3",
   "version": "3.9.12"
  }
 },
 "nbformat": 4,
 "nbformat_minor": 5
}
